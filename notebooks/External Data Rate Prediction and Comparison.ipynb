{
 "cells": [
  {
   "cell_type": "code",
   "execution_count": 307,
   "metadata": {},
   "outputs": [],
   "source": [
    "import os\n",
    "import sys\n",
    "sys.path.insert(0, \"../\")\n",
    "import pandas as pd\n",
    "import numpy as np\n",
    "import data_processing.utils as utils\n",
    "import matplotlib.pyplot as plt\n",
    "import seaborn as sns\n",
    "import datetime\n",
    "from scipy.special import softmax\n",
    "\n",
    "from sklearn.preprocessing import StandardScaler\n",
    "from sklearn.neighbors import NearestNeighbors\n",
    "sns.set_style('whitegrid')\n",
    "pd.options.mode.chained_assignment = None "
   ]
  },
  {
   "cell_type": "code",
   "execution_count": 354,
   "metadata": {},
   "outputs": [],
   "source": [
    "TEST_PATH = os.path.join(os.path.dirname(os.getcwd()), 'data_processing/test_files/')\n",
    "PARTITION_SUBGRADES = \"partition_subgrades_30000.csv\"\n",
    "FIG_PATH = os.path.join(os.path.dirname(os.getcwd()), 'figures/external_comparisons/')\n",
    "pd.set_option('display.max_columns', None)\n",
    "pd.set_option('display.max_rows', 160)"
   ]
  },
  {
   "cell_type": "code",
   "execution_count": 355,
   "metadata": {},
   "outputs": [],
   "source": [
    "cat_vars_of_interest = [\"term\", \"grade\", \"sub_grade\", \"emp_title\", \"emp_length\", \"home_ownership\", \"verification_status\", \"purpose\", \"addr_state\", \n",
    "    \"initial_list_status\", \"application_type\", \"hardship_flag\", \"loan_status\"\n",
    "]\n",
    "num_vars_of_interest = list(set([\n",
    "    \"loan_amnt\", \"funded_amnt\", \"funded_amnt_inv\", \"int_rate\", \"zip_code\", \"installment\", \"issue_d\", \"annual_inc\", \"dti\", \"fico_range_low\", \"fico_range_high\", \n",
    "    \"revol_bal\", \"revol_util\", \"open_acc\", \"delinq_2yrs\", \"inq_last_6mths\", \"total_acc\", \"mths_since_last_delinq\", \"mths_since_last_record\", \"mths_since_rcnt_il\",\n",
    "    \"last_credit_pull_d\", \"open_il_12m\", \"open_il_24m\", \"total_bal_il\", \"il_util\", \"open_rv_12m\", \"open_rv_24m\", \"max_bal_bc\", \"all_util\",\n",
    "    \"total_rev_hi_lim\", \"inq_fi\", \"total_cu_tl\", \"inq_last_12m\", \"acc_open_past_24mths\", \"avg_cur_bal\", \"bc_open_to_buy\", \"bc_util\", \"num_accts_ever_120_pd\",\n",
    "    \"num_actv_bc_tl\", \"num_actv_rev_tl\", \"num_bc_sats\", \"num_bc_tl\", \"num_sats\", \"num_il_tl\", \"num_op_rev_tl\", \"num_rev_accts\", \"num_rev_tl_bal_gt_0\", \"tot_hi_cred_lim\", \n",
    "    \"pct_tl_nvr_dlq\", \"percent_bc_gt_75\", \"total_bal_ex_mort\", \"total_bc_limit\",\"total_il_high_credit_limit\", \"mths_since_last_major_derog\", \"mths_since_recent_bc\",\n",
    "    \"mths_since_recent_bc_dlq\", \"mths_since_recent_inq\", \"mths_since_recent_revol_delinq\"\n",
    "]))"
   ]
  },
  {
   "cell_type": "code",
   "execution_count": 356,
   "metadata": {},
   "outputs": [
    {
     "name": "stderr",
     "output_type": "stream",
     "text": [
      "/home/acowlagi/.conda/envs/torch_py39/lib/python3.9/site-packages/IPython/core/interactiveshell.py:3165: DtypeWarning: Columns (19,118) have mixed types.Specify dtype option on import or set low_memory=False.\n",
      "  has_raised = await self.run_ast_nodes(code_ast.body, cell_name,\n"
     ]
    }
   ],
   "source": [
    "partition_subgrade = pd.read_csv(TEST_PATH + PARTITION_SUBGRADES)\n",
    "partition_subgrade = partition_subgrade[num_vars_of_interest + cat_vars_of_interest]\n",
    "partition_subgrade.reset_index(drop = True)\n",
    "partition_subgrade, num_vars_of_interest, cat_vars_of_interest = utils.clean_accepted_df(partition_subgrade, numeric_cols= num_vars_of_interest, categorical_cols= cat_vars_of_interest, one_hot_threshold=30)\n",
    "\n",
    "shared_features = [\"loan_amnt\", \"annual_inc\", \"term\", \"fico_range_low\", \"fico_range_high\", \"delinq_2yrs\", \"mths_since_last_delinq\"] #, \"issue_d\"]\n",
    "nn_df_with_int_rate = partition_subgrade[shared_features]\n",
    "nn_df_with_int_rate[\"fico\"] = (partition_subgrade[\"fico_range_high\"] + partition_subgrade[\"fico_range_low\"]) / 2.0\n",
    "nn_df_with_int_rate.drop([\"fico_range_high\", \"fico_range_low\"], axis = 1, inplace = True)\n",
    "nn_df_with_int_rate[\"int_rate\"] = partition_subgrade[\"int_rate\"]\n",
    "nn_df_with_int_rate[\"sub_grade\"] = partition_subgrade[\"sub_grade\"]\n"
   ]
  },
  {
   "cell_type": "code",
   "execution_count": 357,
   "metadata": {},
   "outputs": [
    {
     "data": {
      "text/html": [
       "<div>\n",
       "<style scoped>\n",
       "    .dataframe tbody tr th:only-of-type {\n",
       "        vertical-align: middle;\n",
       "    }\n",
       "\n",
       "    .dataframe tbody tr th {\n",
       "        vertical-align: top;\n",
       "    }\n",
       "\n",
       "    .dataframe thead th {\n",
       "        text-align: right;\n",
       "    }\n",
       "</style>\n",
       "<table border=\"1\" class=\"dataframe\">\n",
       "  <thead>\n",
       "    <tr style=\"text-align: right;\">\n",
       "      <th></th>\n",
       "      <th>loan_amnt</th>\n",
       "      <th>annual_inc</th>\n",
       "      <th>term</th>\n",
       "      <th>delinq_2yrs</th>\n",
       "      <th>mths_since_last_delinq</th>\n",
       "      <th>fico</th>\n",
       "      <th>int_rate</th>\n",
       "      <th>sub_grade</th>\n",
       "    </tr>\n",
       "  </thead>\n",
       "  <tbody>\n",
       "    <tr>\n",
       "      <th>0</th>\n",
       "      <td>1400.0</td>\n",
       "      <td>64000.0</td>\n",
       "      <td>0</td>\n",
       "      <td>0.0</td>\n",
       "      <td>133.0</td>\n",
       "      <td>702.0</td>\n",
       "      <td>12.88</td>\n",
       "      <td>11</td>\n",
       "    </tr>\n",
       "    <tr>\n",
       "      <th>1</th>\n",
       "      <td>5000.0</td>\n",
       "      <td>79000.0</td>\n",
       "      <td>0</td>\n",
       "      <td>0.0</td>\n",
       "      <td>133.0</td>\n",
       "      <td>667.0</td>\n",
       "      <td>13.44</td>\n",
       "      <td>12</td>\n",
       "    </tr>\n",
       "    <tr>\n",
       "      <th>2</th>\n",
       "      <td>6000.0</td>\n",
       "      <td>100000.0</td>\n",
       "      <td>0</td>\n",
       "      <td>1.0</td>\n",
       "      <td>15.0</td>\n",
       "      <td>697.0</td>\n",
       "      <td>7.49</td>\n",
       "      <td>3</td>\n",
       "    </tr>\n",
       "    <tr>\n",
       "      <th>3</th>\n",
       "      <td>4225.0</td>\n",
       "      <td>35000.0</td>\n",
       "      <td>0</td>\n",
       "      <td>2.0</td>\n",
       "      <td>18.0</td>\n",
       "      <td>727.0</td>\n",
       "      <td>14.85</td>\n",
       "      <td>14</td>\n",
       "    </tr>\n",
       "    <tr>\n",
       "      <th>4</th>\n",
       "      <td>15000.0</td>\n",
       "      <td>44000.0</td>\n",
       "      <td>0</td>\n",
       "      <td>0.0</td>\n",
       "      <td>47.0</td>\n",
       "      <td>687.0</td>\n",
       "      <td>5.32</td>\n",
       "      <td>0</td>\n",
       "    </tr>\n",
       "  </tbody>\n",
       "</table>\n",
       "</div>"
      ],
      "text/plain": [
       "   loan_amnt  annual_inc  term  delinq_2yrs  mths_since_last_delinq   fico  \\\n",
       "0     1400.0     64000.0     0          0.0                   133.0  702.0   \n",
       "1     5000.0     79000.0     0          0.0                   133.0  667.0   \n",
       "2     6000.0    100000.0     0          1.0                    15.0  697.0   \n",
       "3     4225.0     35000.0     0          2.0                    18.0  727.0   \n",
       "4    15000.0     44000.0     0          0.0                    47.0  687.0   \n",
       "\n",
       "   int_rate  sub_grade  \n",
       "0     12.88         11  \n",
       "1     13.44         12  \n",
       "2      7.49          3  \n",
       "3     14.85         14  \n",
       "4      5.32          0  "
      ]
     },
     "execution_count": 357,
     "metadata": {},
     "output_type": "execute_result"
    }
   ],
   "source": [
    "nn_df_with_int_rate.head()"
   ]
  },
  {
   "cell_type": "code",
   "execution_count": 358,
   "metadata": {},
   "outputs": [],
   "source": [
    "cat_vars_of_interest = [\"term\", \"grade\", \"sub_grade\", \"emp_title\", \"emp_length\", \"home_ownership\", \"verification_status\", \"purpose\", \"addr_state\", \n",
    "    \"initial_list_status\", \"application_type\", \"hardship_flag\", \"loan_status\"\n",
    "]\n",
    "num_vars_of_interest = list(set([\n",
    "    \"loan_amnt\", \"funded_amnt\", \"funded_amnt_inv\", \"int_rate\", \"zip_code\", \"installment\", \"issue_d\", \"annual_inc\", \"dti\", \"fico_range_low\", \"fico_range_high\", \n",
    "    \"revol_bal\", \"revol_util\", \"open_acc\", \"delinq_2yrs\", \"inq_last_6mths\", \"total_acc\", \"mths_since_last_delinq\", \"mths_since_last_record\", \"mths_since_rcnt_il\",\n",
    "    \"last_credit_pull_d\", \"open_il_12m\", \"open_il_24m\", \"total_bal_il\", \"il_util\", \"open_rv_12m\", \"open_rv_24m\", \"max_bal_bc\", \"all_util\",\n",
    "    \"total_rev_hi_lim\", \"inq_fi\", \"total_cu_tl\", \"inq_last_12m\", \"acc_open_past_24mths\", \"avg_cur_bal\", \"bc_open_to_buy\", \"bc_util\", \"num_accts_ever_120_pd\",\n",
    "    \"num_actv_bc_tl\", \"num_actv_rev_tl\", \"num_bc_sats\", \"num_bc_tl\", \"num_sats\", \"num_il_tl\", \"num_op_rev_tl\", \"num_rev_accts\", \"num_rev_tl_bal_gt_0\", \"tot_hi_cred_lim\", \n",
    "    \"pct_tl_nvr_dlq\", \"percent_bc_gt_75\", \"total_bal_ex_mort\", \"total_bc_limit\",\"total_il_high_credit_limit\", \"mths_since_last_major_derog\", \"mths_since_recent_bc\",\n",
    "    \"mths_since_recent_bc_dlq\", \"mths_since_recent_inq\", \"mths_since_recent_revol_delinq\"\n",
    "]))"
   ]
  },
  {
   "cell_type": "code",
   "execution_count": 395,
   "metadata": {},
   "outputs": [
    {
     "data": {
      "text/html": [
       "<div>\n",
       "<style scoped>\n",
       "    .dataframe tbody tr th:only-of-type {\n",
       "        vertical-align: middle;\n",
       "    }\n",
       "\n",
       "    .dataframe tbody tr th {\n",
       "        vertical-align: top;\n",
       "    }\n",
       "\n",
       "    .dataframe thead th {\n",
       "        text-align: right;\n",
       "    }\n",
       "</style>\n",
       "<table border=\"1\" class=\"dataframe\">\n",
       "  <thead>\n",
       "    <tr style=\"text-align: right;\">\n",
       "      <th></th>\n",
       "      <th>loan_amnt</th>\n",
       "      <th>annual_inc</th>\n",
       "      <th>term</th>\n",
       "      <th>delinq_2yrs</th>\n",
       "      <th>mths_since_last_delinq</th>\n",
       "      <th>fico</th>\n",
       "      <th>int_rate</th>\n",
       "    </tr>\n",
       "  </thead>\n",
       "  <tbody>\n",
       "    <tr>\n",
       "      <th>494</th>\n",
       "      <td>26243.22</td>\n",
       "      <td>70249.537285</td>\n",
       "      <td>1</td>\n",
       "      <td>0.0</td>\n",
       "      <td>133.0</td>\n",
       "      <td>725.0</td>\n",
       "      <td>28.0</td>\n",
       "    </tr>\n",
       "    <tr>\n",
       "      <th>958</th>\n",
       "      <td>20528.59</td>\n",
       "      <td>39102.076190</td>\n",
       "      <td>1</td>\n",
       "      <td>0.0</td>\n",
       "      <td>133.0</td>\n",
       "      <td>646.0</td>\n",
       "      <td>28.0</td>\n",
       "    </tr>\n",
       "    <tr>\n",
       "      <th>994</th>\n",
       "      <td>19728.20</td>\n",
       "      <td>39883.725632</td>\n",
       "      <td>1</td>\n",
       "      <td>0.0</td>\n",
       "      <td>133.0</td>\n",
       "      <td>678.0</td>\n",
       "      <td>28.0</td>\n",
       "    </tr>\n",
       "    <tr>\n",
       "      <th>1011</th>\n",
       "      <td>24033.49</td>\n",
       "      <td>33815.965829</td>\n",
       "      <td>1</td>\n",
       "      <td>0.0</td>\n",
       "      <td>133.0</td>\n",
       "      <td>645.0</td>\n",
       "      <td>28.0</td>\n",
       "    </tr>\n",
       "    <tr>\n",
       "      <th>2537</th>\n",
       "      <td>13862.56</td>\n",
       "      <td>43272.205128</td>\n",
       "      <td>1</td>\n",
       "      <td>0.0</td>\n",
       "      <td>133.0</td>\n",
       "      <td>693.0</td>\n",
       "      <td>28.0</td>\n",
       "    </tr>\n",
       "  </tbody>\n",
       "</table>\n",
       "</div>"
      ],
      "text/plain": [
       "      loan_amnt    annual_inc  term  delinq_2yrs  mths_since_last_delinq  \\\n",
       "494    26243.22  70249.537285     1          0.0                   133.0   \n",
       "958    20528.59  39102.076190     1          0.0                   133.0   \n",
       "994    19728.20  39883.725632     1          0.0                   133.0   \n",
       "1011   24033.49  33815.965829     1          0.0                   133.0   \n",
       "2537   13862.56  43272.205128     1          0.0                   133.0   \n",
       "\n",
       "       fico  int_rate  \n",
       "494   725.0      28.0  \n",
       "958   646.0      28.0  \n",
       "994   678.0      28.0  \n",
       "1011  645.0      28.0  \n",
       "2537  693.0      28.0  "
      ]
     },
     "execution_count": 395,
     "metadata": {},
     "output_type": "execute_result"
    }
   ],
   "source": [
    "EXTERNAL_DATA_PATH = \"eart_60m_clean.csv\"\n",
    "external_data = pd.read_csv(TEST_PATH + EXTERNAL_DATA_PATH,  index_col = 0)\n",
    "\n",
    "# Stuff relevant if using samples from LendingClub, not external\n",
    "# external_data = external_data[num_vars_of_interest + cat_vars_of_interest]\n",
    "# external_data = external_data.reset_index(drop = True)\n",
    "# external_data.head()\n",
    "# external_data, num_vars_of_interest, cat_vars_of_interest = utils.clean_accepted_df(external_data, numeric_cols= num_vars_of_interest, categorical_cols= cat_vars_of_interest, one_hot_threshold=30)\n",
    "\n",
    "# shared_features = [\"loan_amnt\", \"annual_inc\", \"term\", \"fico_range_low\", \"fico_range_high\", \"delinq_2yrs\", \"mths_since_last_delinq\", \"int_rate\", \"sub_grade\"] #, \"issue_d\"]\n",
    "# external_data = external_data[shared_features]\n",
    "# external_data[\"fico\"] = (external_data[\"fico_range_high\"] + external_data[\"fico_range_low\"]) / 2.0\n",
    "# external_data.drop([\"fico_range_high\", \"fico_range_low\"], axis = 1, inplace = True)\n",
    "# external_data[\"int_rate\"] = external_data[\"int_rate\"]\n",
    "# external_data[\"sub_grade\"] = external_data[\"sub_grade\"]\n",
    "# external_data = external_data[[\"loan_amnt\", \"annual_inc\", \"term\", \"delinq_2yrs\", \"mths_since_last_delinq\", \"fico\", \"int_rate\",  \"sub_grade\"]]\n",
    "\n",
    "\n",
    "external_data.columns = [\"int_rate\", \"loan_amnt\", \"fico\", \"drop\", \"annual_inc\", \"drop\", \"delinq_2yrs\", \"mths_since_last_delinq\", \"drop\", \"issue_d\", \"drop\", \"drop\"]\n",
    "external_data.drop(\"drop\", axis = 1, inplace= True)\n",
    "external_data[\"term\"] = 1 if \"60\" in EXTERNAL_DATA_PATH else 0\n",
    "max_mths = nn_df_with_int_rate[\"mths_since_last_delinq\"].max()\n",
    "external_data[\"mths_since_last_delinq\"] = external_data[\"mths_since_last_delinq\"].apply(lambda x: max_mths if x == -1 else x)\n",
    "external_data = external_data[external_data[\"fico\"] > 640]\n",
    "external_data = external_data[external_data[\"int_rate\"] > 0]\n",
    "external_data = external_data[[\"loan_amnt\", \"annual_inc\", \"term\", \"delinq_2yrs\", \"mths_since_last_delinq\", \"fico\", \"int_rate\"]]\n",
    "# external_data[\"issue_d\"] = (pd.to_datetime(external_data[\"issue_d\"]) - datetime.datetime(2018,1,1)).dt.days.astype('float64')\n",
    "external_data.head()"
   ]
  },
  {
   "cell_type": "code",
   "execution_count": 396,
   "metadata": {},
   "outputs": [],
   "source": [
    "scaler = StandardScaler().fit(nn_df_with_int_rate.iloc[:, :-2])\n",
    "normalized_int = scaler.transform(nn_df_with_int_rate.iloc[:, :-2])\n",
    "int_rate_corrs = (nn_df_with_int_rate.corr()['int_rate']).values[:-2]\n",
    "\n",
    "num_neighbors = 5\n",
    "nn = NearestNeighbors(n_neighbors = num_neighbors, metric = \"mahalanobis\", metric_params= {'V': np.diag(1/int_rate_corrs)*np.cov(normalized_int.T)*np.diag(1/int_rate_corrs)})"
   ]
  },
  {
   "cell_type": "code",
   "execution_count": 397,
   "metadata": {},
   "outputs": [
    {
     "data": {
      "text/plain": [
       "NearestNeighbors(metric='mahalanobis',\n",
       "                 metric_params={'V': array([[  13.36572993,    0.        ,    0.        ,    0.        ,\n",
       "          -0.        ,    0.        ],\n",
       "       [   0.        ,  187.5724795 ,    0.        ,    0.        ,\n",
       "          -0.        ,    0.        ],\n",
       "       [   0.        ,    0.        ,    3.07467325,   -0.        ,\n",
       "          -0.        ,   -0.        ],\n",
       "       [   0.        ,    0.        ,   -0.        , 1247.20787274,\n",
       "          -0.        ,   -0.        ],\n",
       "       [  -0.        ,   -0.        ,   -0.        ,   -0.        ,\n",
       "         468.95760889,    0.        ],\n",
       "       [   0.        ,    0.        ,   -0.        ,   -0.        ,\n",
       "           0.        ,    5.98843606]])})"
      ]
     },
     "execution_count": 397,
     "metadata": {},
     "output_type": "execute_result"
    }
   ],
   "source": [
    "nn.fit(normalized_int)"
   ]
  },
  {
   "cell_type": "code",
   "execution_count": 398,
   "metadata": {},
   "outputs": [],
   "source": [
    "normalized_ext = scaler.transform(external_data.iloc[:,:-1])\n",
    "#normalized_ext = scaler.transform(external_data.iloc[:,:-2])\n",
    "ext_neighbors = nn.kneighbors(normalized_ext)"
   ]
  },
  {
   "cell_type": "code",
   "execution_count": 399,
   "metadata": {},
   "outputs": [],
   "source": [
    "ext_nearest_neighbor_sub_grades = nn_df_with_int_rate[\"sub_grade\"].iloc[ext_neighbors[1].flatten()]\n",
    "\n",
    "sub_grade_to_int_rate = {}\n",
    "sub_grades = nn_df_with_int_rate[\"sub_grade\"].unique()\n",
    "\n",
    "for sub_grade in sub_grades:\n",
    "    sub_grade_to_int_rate[sub_grade] = nn_df_with_int_rate[\"int_rate\"][nn_df_with_int_rate[\"sub_grade\"] == sub_grade].mean()\n",
    "\n",
    "ext_nearest_neighbor_int_rates = ext_nearest_neighbor_sub_grades.apply(lambda x: sub_grade_to_int_rate[x])\n",
    "ext_nearest_neighbor_int_rates_weights = softmax(ext_neighbors[0], axis = 1).flatten()"
   ]
  },
  {
   "cell_type": "code",
   "execution_count": 400,
   "metadata": {},
   "outputs": [],
   "source": [
    "ext_weighted_int_rates = ext_nearest_neighbor_int_rates * ext_nearest_neighbor_int_rates_weights\n",
    "ext_weighted_int_rates = ext_weighted_int_rates.values.reshape((-1, num_neighbors))\n",
    "ext_pred_int_rate = np.sum(ext_weighted_int_rates, axis = 1)"
   ]
  },
  {
   "cell_type": "code",
   "execution_count": 401,
   "metadata": {},
   "outputs": [
    {
     "data": {
      "image/png": "[encoded data removed]",
      "text/plain": [
       "<Figure size 1080x576 with 1 Axes>"
      ]
     },
     "metadata": {},
     "output_type": "display_data"
    }
   ],
   "source": [
    "plt.figure(figsize=(15,8))\n",
    "sns.kdeplot(ext_pred_int_rate, cut = 35, clip = (-2, 35), fill = True, label = \"Lending Club Projection\")\n",
    "sns.kdeplot(external_data[\"int_rate\"], cut = 35, clip = (-2, 35), fill = True, label = \"True Rate\")\n",
    "plt.tick_params(labelsize=16)\n",
    "plt.xlabel(\"Interest Rate (%)\", fontsize = 16, labelpad= 10)\n",
    "plt.legend(fontsize= 16)\n",
    "plt.ylabel(\"Density\", fontsize = 16)\n",
    "plt.xlim(0, 35)\n",
    "plt.savefig(FIG_PATH + \"eart_60m_pdf_comps.pdf\")\n"
   ]
  },
  {
   "cell_type": "code",
   "execution_count": 402,
   "metadata": {},
   "outputs": [
    {
     "data": {
      "text/plain": [
       "0.7257761446157888"
      ]
     },
     "execution_count": 402,
     "metadata": {},
     "output_type": "execute_result"
    }
   ],
   "source": [
    "from sklearn.neighbors import KernelDensity\n",
    "\n",
    "x_range = np.linspace(0, 35, 1000)\n",
    "# instantiate and fit the KDE model\n",
    "kde_pred = KernelDensity(bandwidth=0.8, kernel='gaussian')\n",
    "kde_pred.fit(ext_pred_int_rate.reshape((ext_pred_int_rate.shape[0], 1)))\n",
    "pred_logprob = kde_pred.score_samples(x_range.reshape((x_range.shape[0], 1)))\n",
    "kde_act = KernelDensity(bandwidth=0.8, kernel='gaussian')\n",
    "kde_act.fit(external_data[\"int_rate\"].values.reshape((external_data[\"int_rate\"].shape[0], 1)))\n",
    "act_logprob = kde_act.score_samples(x_range.reshape((x_range.shape[0], 1)))\n",
    "from scipy.integrate import trapz\n",
    "\n",
    "BC = trapz(x = x_range, y=np.sqrt(np.exp(pred_logprob)*np.exp(act_logprob)))\n",
    "BC"
   ]
  },
  {
   "cell_type": "markdown",
   "metadata": {},
   "source": [
    "### Testing Area"
   ]
  },
  {
   "cell_type": "code",
   "execution_count": 403,
   "metadata": {},
   "outputs": [],
   "source": [
    "# Only relevant if external_data uses samples from Lending Club\n",
    "# plt.scatter(ext_pred_int_rate,  external_data[\"int_rate\"])\n"
   ]
  },
  {
   "cell_type": "code",
   "execution_count": 404,
   "metadata": {},
   "outputs": [],
   "source": [
    "# Only relevant if external_data uses samples from Lending Club\n",
    "# external_plotting_df = pd.DataFrame({'Interest Rate (%)': ext_pred_int_rate,\n",
    "#                    'Residual': ext_pred_int_rate - external_data[\"int_rate\"] })\n",
    "# ax = external_plotting_df.plot.hexbin(x='Interest Rate (%)', y='Residual', gridsize=15, figsize = (15, 10),sharex=False, cmap = \"Blues\")\n",
    "# ax.set_xlabel(\"Interest Rate (%)\", fontsize = 16, labelpad= 10)\n",
    "# ax.set_ylabel(\"Residual\", fontsize = 16)"
   ]
  },
  {
   "cell_type": "code",
   "execution_count": 405,
   "metadata": {},
   "outputs": [
    {
     "data": {
      "text/plain": [
       "Ttest_indResult(statistic=48.28181237894089, pvalue=0.0)"
      ]
     },
     "execution_count": 405,
     "metadata": {},
     "output_type": "execute_result"
    }
   ],
   "source": [
    "from scipy import stats\n",
    "stats.ttest_ind(ext_pred_int_rate, external_data[\"int_rate\"], alternative= \"greater\")"
   ]
  },
  {
   "cell_type": "code",
   "execution_count": 406,
   "metadata": {},
   "outputs": [],
   "source": [
    "# Only relevant if external data uses samples from LendingClub\n",
    "# pred_int_rate = pd.Series(ext_pred_int_rate)\n",
    "# xrange = np.linspace(-2, 35, 2000)\n",
    "# for i in range(35):\n",
    "#     ax = sns.kdeplot(pred_int_rate[external_data[\"sub_grade\"] == i], cut = 35, clip = (-2, 35), fill = True)\n",
    "#     print(pred_int_rate[external_data[\"sub_grade\"] == i].std())\n",
    "#     plt.xlim([-2, 35])\n",
    "#     # nn_df_reset_ind[\"int_rate\"][nn_df_reset_ind[\"sub_grade\"] == i].plot(kind = \"kde\")\n",
    "#     plt.axvline(x=sub_grade_to_int_rate[i], color='k', linestyle='--')\n",
    "#     plt.axvline(x=pred_int_rate[external_data[\"sub_grade\"]  == i].median(), color = 'r', linestyle='--')\n",
    "#     plt.show()"
   ]
  }
 ],
 "metadata": {
  "kernelspec": {
   "display_name": "Python 3.9.4 ('torch_py39')",
   "language": "python",
   "name": "python3"
  },
  "language_info": {
   "codemirror_mode": {
    "name": "ipython",
    "version": 3
   },
   "file_extension": ".py",
   "mimetype": "text/x-python",
   "name": "python",
   "nbconvert_exporter": "python",
   "pygments_lexer": "ipython3",
   "version": "3.9.4"
  },
  "orig_nbformat": 4,
  "vscode": {
   "interpreter": {
    "hash": "e1130fced50ebbd9c22ddab28fa19c6a12da74a9cdda1dff4d98afdf6b513e87"
   }
  }
 },
 "nbformat": 4,
 "nbformat_minor": 2
}
