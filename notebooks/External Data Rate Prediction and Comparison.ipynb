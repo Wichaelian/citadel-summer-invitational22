{
 "cells": [
  {
   "cell_type": "code",
   "execution_count": 23,
   "metadata": {},
   "outputs": [],
   "source": [
    "import os\n",
    "import sys\n",
    "sys.path.insert(0, \"../\")\n",
    "import pandas as pd\n",
    "import numpy as np\n",
    "import data_processing.utils as utils\n",
    "import matplotlib.pyplot as plt\n",
    "import seaborn as sns\n",
    "import datetime\n",
    "from scipy.special import softmax\n",
    "\n",
    "from sklearn.preprocessing import StandardScaler\n",
    "from sklearn.neighbors import NearestNeighbors\n",
    "sns.set_style('whitegrid')\n",
    "pd.options.mode.chained_assignment = None "
   ]
  },
  {
   "cell_type": "code",
   "execution_count": 24,
   "metadata": {},
   "outputs": [],
   "source": [
    "TEST_PATH = os.path.join(os.path.dirname(os.getcwd()), 'data_processing/test_files/')\n",
    "PARTITION_SUBGRADES = \"partition_subgrades_30000.csv\"\n",
    "FIG_PATH = os.path.join(os.path.dirname(os.getcwd()), 'figures/external_comparisons/')\n",
    "pd.set_option('display.max_columns', None)\n",
    "pd.set_option('display.max_rows', 160)"
   ]
  },
  {
   "cell_type": "code",
   "execution_count": 25,
   "metadata": {},
   "outputs": [],
   "source": [
    "cat_vars_of_interest = [\"term\", \"grade\", \"sub_grade\", \"emp_title\", \"emp_length\", \"home_ownership\", \"verification_status\", \"purpose\", \"addr_state\", \n",
    "    \"initial_list_status\", \"application_type\", \"hardship_flag\", \"loan_status\"\n",
    "]\n",
    "num_vars_of_interest = list(set([\n",
    "    \"loan_amnt\", \"funded_amnt\", \"funded_amnt_inv\", \"int_rate\", \"zip_code\", \"installment\", \"issue_d\", \"annual_inc\", \"dti\", \"fico_range_low\", \"fico_range_high\", \n",
    "    \"revol_bal\", \"revol_util\", \"open_acc\", \"delinq_2yrs\", \"inq_last_6mths\", \"total_acc\", \"mths_since_last_delinq\", \"mths_since_last_record\", \"mths_since_rcnt_il\",\n",
    "    \"last_credit_pull_d\", \"open_il_12m\", \"open_il_24m\", \"total_bal_il\", \"il_util\", \"open_rv_12m\", \"open_rv_24m\", \"max_bal_bc\", \"all_util\",\n",
    "    \"total_rev_hi_lim\", \"inq_fi\", \"total_cu_tl\", \"inq_last_12m\", \"acc_open_past_24mths\", \"avg_cur_bal\", \"bc_open_to_buy\", \"bc_util\", \"num_accts_ever_120_pd\",\n",
    "    \"num_actv_bc_tl\", \"num_actv_rev_tl\", \"num_bc_sats\", \"num_bc_tl\", \"num_sats\", \"num_il_tl\", \"num_op_rev_tl\", \"num_rev_accts\", \"num_rev_tl_bal_gt_0\", \"tot_hi_cred_lim\", \n",
    "    \"pct_tl_nvr_dlq\", \"percent_bc_gt_75\", \"total_bal_ex_mort\", \"total_bc_limit\",\"total_il_high_credit_limit\", \"mths_since_last_major_derog\", \"mths_since_recent_bc\",\n",
    "    \"mths_since_recent_bc_dlq\", \"mths_since_recent_inq\", \"mths_since_recent_revol_delinq\"\n",
    "]))"
   ]
  },
  {
   "cell_type": "code",
   "execution_count": 26,
   "metadata": {},
   "outputs": [
    {
     "name": "stderr",
     "output_type": "stream",
     "text": [
      "/home/acowlagi/.conda/envs/torch_py39/lib/python3.9/site-packages/IPython/core/interactiveshell.py:3165: DtypeWarning: Columns (19,118) have mixed types.Specify dtype option on import or set low_memory=False.\n",
      "  has_raised = await self.run_ast_nodes(code_ast.body, cell_name,\n"
     ]
    }
   ],
   "source": [
    "partition_subgrade = pd.read_csv(TEST_PATH + PARTITION_SUBGRADES)\n",
    "partition_subgrade = partition_subgrade[num_vars_of_interest + cat_vars_of_interest]\n",
    "partition_subgrade.reset_index(drop = True)\n",
    "partition_subgrade, num_vars_of_interest, cat_vars_of_interest = utils.clean_accepted_df(partition_subgrade, numeric_cols= num_vars_of_interest, categorical_cols= cat_vars_of_interest, one_hot_threshold=30)\n",
    "\n",
    "shared_features = [\"loan_amnt\", \"annual_inc\", \"term\", \"fico_range_low\", \"fico_range_high\", \"delinq_2yrs\", \"mths_since_last_delinq\"] #, \"issue_d\"]\n",
    "nn_df_with_int_rate = partition_subgrade[shared_features]\n",
    "nn_df_with_int_rate[\"fico\"] = (partition_subgrade[\"fico_range_high\"] + partition_subgrade[\"fico_range_low\"]) / 2.0\n",
    "nn_df_with_int_rate.drop([\"fico_range_high\", \"fico_range_low\"], axis = 1, inplace = True)\n",
    "nn_df_with_int_rate[\"int_rate\"] = partition_subgrade[\"int_rate\"]\n",
    "nn_df_with_int_rate[\"sub_grade\"] = partition_subgrade[\"sub_grade\"]\n"
   ]
  },
  {
   "cell_type": "code",
   "execution_count": 27,
   "metadata": {},
   "outputs": [
    {
     "data": {
      "text/html": [
       "<div>\n",
       "<style scoped>\n",
       "    .dataframe tbody tr th:only-of-type {\n",
       "        vertical-align: middle;\n",
       "    }\n",
       "\n",
       "    .dataframe tbody tr th {\n",
       "        vertical-align: top;\n",
       "    }\n",
       "\n",
       "    .dataframe thead th {\n",
       "        text-align: right;\n",
       "    }\n",
       "</style>\n",
       "<table border=\"1\" class=\"dataframe\">\n",
       "  <thead>\n",
       "    <tr style=\"text-align: right;\">\n",
       "      <th></th>\n",
       "      <th>loan_amnt</th>\n",
       "      <th>annual_inc</th>\n",
       "      <th>term</th>\n",
       "      <th>delinq_2yrs</th>\n",
       "      <th>mths_since_last_delinq</th>\n",
       "      <th>fico</th>\n",
       "      <th>int_rate</th>\n",
       "      <th>sub_grade</th>\n",
       "    </tr>\n",
       "  </thead>\n",
       "  <tbody>\n",
       "    <tr>\n",
       "      <th>0</th>\n",
       "      <td>1400.0</td>\n",
       "      <td>64000.0</td>\n",
       "      <td>0</td>\n",
       "      <td>0.0</td>\n",
       "      <td>133.0</td>\n",
       "      <td>702.0</td>\n",
       "      <td>12.88</td>\n",
       "      <td>11</td>\n",
       "    </tr>\n",
       "    <tr>\n",
       "      <th>1</th>\n",
       "      <td>5000.0</td>\n",
       "      <td>79000.0</td>\n",
       "      <td>0</td>\n",
       "      <td>0.0</td>\n",
       "      <td>133.0</td>\n",
       "      <td>667.0</td>\n",
       "      <td>13.44</td>\n",
       "      <td>12</td>\n",
       "    </tr>\n",
       "    <tr>\n",
       "      <th>2</th>\n",
       "      <td>6000.0</td>\n",
       "      <td>100000.0</td>\n",
       "      <td>0</td>\n",
       "      <td>1.0</td>\n",
       "      <td>15.0</td>\n",
       "      <td>697.0</td>\n",
       "      <td>7.49</td>\n",
       "      <td>3</td>\n",
       "    </tr>\n",
       "    <tr>\n",
       "      <th>3</th>\n",
       "      <td>4225.0</td>\n",
       "      <td>35000.0</td>\n",
       "      <td>0</td>\n",
       "      <td>2.0</td>\n",
       "      <td>18.0</td>\n",
       "      <td>727.0</td>\n",
       "      <td>14.85</td>\n",
       "      <td>14</td>\n",
       "    </tr>\n",
       "    <tr>\n",
       "      <th>4</th>\n",
       "      <td>15000.0</td>\n",
       "      <td>44000.0</td>\n",
       "      <td>0</td>\n",
       "      <td>0.0</td>\n",
       "      <td>47.0</td>\n",
       "      <td>687.0</td>\n",
       "      <td>5.32</td>\n",
       "      <td>0</td>\n",
       "    </tr>\n",
       "  </tbody>\n",
       "</table>\n",
       "</div>"
      ],
      "text/plain": [
       "   loan_amnt  annual_inc  term  delinq_2yrs  mths_since_last_delinq   fico  \\\n",
       "0     1400.0     64000.0     0          0.0                   133.0  702.0   \n",
       "1     5000.0     79000.0     0          0.0                   133.0  667.0   \n",
       "2     6000.0    100000.0     0          1.0                    15.0  697.0   \n",
       "3     4225.0     35000.0     0          2.0                    18.0  727.0   \n",
       "4    15000.0     44000.0     0          0.0                    47.0  687.0   \n",
       "\n",
       "   int_rate  sub_grade  \n",
       "0     12.88         11  \n",
       "1     13.44         12  \n",
       "2      7.49          3  \n",
       "3     14.85         14  \n",
       "4      5.32          0  "
      ]
     },
     "execution_count": 27,
     "metadata": {},
     "output_type": "execute_result"
    }
   ],
   "source": [
    "nn_df_with_int_rate.head()"
   ]
  },
  {
   "cell_type": "code",
   "execution_count": 28,
   "metadata": {},
   "outputs": [],
   "source": [
    "cat_vars_of_interest = [\"term\", \"grade\", \"sub_grade\", \"emp_title\", \"emp_length\", \"home_ownership\", \"verification_status\", \"purpose\", \"addr_state\", \n",
    "    \"initial_list_status\", \"application_type\", \"hardship_flag\", \"loan_status\"\n",
    "]\n",
    "num_vars_of_interest = list(set([\n",
    "    \"loan_amnt\", \"funded_amnt\", \"funded_amnt_inv\", \"int_rate\", \"zip_code\", \"installment\", \"issue_d\", \"annual_inc\", \"dti\", \"fico_range_low\", \"fico_range_high\", \n",
    "    \"revol_bal\", \"revol_util\", \"open_acc\", \"delinq_2yrs\", \"inq_last_6mths\", \"total_acc\", \"mths_since_last_delinq\", \"mths_since_last_record\", \"mths_since_rcnt_il\",\n",
    "    \"last_credit_pull_d\", \"open_il_12m\", \"open_il_24m\", \"total_bal_il\", \"il_util\", \"open_rv_12m\", \"open_rv_24m\", \"max_bal_bc\", \"all_util\",\n",
    "    \"total_rev_hi_lim\", \"inq_fi\", \"total_cu_tl\", \"inq_last_12m\", \"acc_open_past_24mths\", \"avg_cur_bal\", \"bc_open_to_buy\", \"bc_util\", \"num_accts_ever_120_pd\",\n",
    "    \"num_actv_bc_tl\", \"num_actv_rev_tl\", \"num_bc_sats\", \"num_bc_tl\", \"num_sats\", \"num_il_tl\", \"num_op_rev_tl\", \"num_rev_accts\", \"num_rev_tl_bal_gt_0\", \"tot_hi_cred_lim\", \n",
    "    \"pct_tl_nvr_dlq\", \"percent_bc_gt_75\", \"total_bal_ex_mort\", \"total_bc_limit\",\"total_il_high_credit_limit\", \"mths_since_last_major_derog\", \"mths_since_recent_bc\",\n",
    "    \"mths_since_recent_bc_dlq\", \"mths_since_recent_inq\", \"mths_since_recent_revol_delinq\"\n",
    "]))"
   ]
  },
  {
   "cell_type": "code",
   "execution_count": 29,
   "metadata": {},
   "outputs": [
    {
     "data": {
      "text/html": [
       "<div>\n",
       "<style scoped>\n",
       "    .dataframe tbody tr th:only-of-type {\n",
       "        vertical-align: middle;\n",
       "    }\n",
       "\n",
       "    .dataframe tbody tr th {\n",
       "        vertical-align: top;\n",
       "    }\n",
       "\n",
       "    .dataframe thead th {\n",
       "        text-align: right;\n",
       "    }\n",
       "</style>\n",
       "<table border=\"1\" class=\"dataframe\">\n",
       "  <thead>\n",
       "    <tr style=\"text-align: right;\">\n",
       "      <th></th>\n",
       "      <th>loan_amnt</th>\n",
       "      <th>annual_inc</th>\n",
       "      <th>term</th>\n",
       "      <th>delinq_2yrs</th>\n",
       "      <th>mths_since_last_delinq</th>\n",
       "      <th>fico</th>\n",
       "      <th>int_rate</th>\n",
       "    </tr>\n",
       "  </thead>\n",
       "  <tbody>\n",
       "    <tr>\n",
       "      <th>93</th>\n",
       "      <td>14113.38</td>\n",
       "      <td>27705.472367</td>\n",
       "      <td>1</td>\n",
       "      <td>0.0</td>\n",
       "      <td>133.0</td>\n",
       "      <td>643.0</td>\n",
       "      <td>28.70</td>\n",
       "    </tr>\n",
       "    <tr>\n",
       "      <th>770</th>\n",
       "      <td>21475.70</td>\n",
       "      <td>49268.865780</td>\n",
       "      <td>1</td>\n",
       "      <td>0.0</td>\n",
       "      <td>133.0</td>\n",
       "      <td>643.0</td>\n",
       "      <td>26.75</td>\n",
       "    </tr>\n",
       "    <tr>\n",
       "      <th>1036</th>\n",
       "      <td>24923.74</td>\n",
       "      <td>42239.011812</td>\n",
       "      <td>1</td>\n",
       "      <td>0.0</td>\n",
       "      <td>133.0</td>\n",
       "      <td>648.0</td>\n",
       "      <td>26.37</td>\n",
       "    </tr>\n",
       "    <tr>\n",
       "      <th>1037</th>\n",
       "      <td>28306.00</td>\n",
       "      <td>80261.206452</td>\n",
       "      <td>1</td>\n",
       "      <td>0.0</td>\n",
       "      <td>133.0</td>\n",
       "      <td>646.0</td>\n",
       "      <td>26.37</td>\n",
       "    </tr>\n",
       "    <tr>\n",
       "      <th>1209</th>\n",
       "      <td>29258.14</td>\n",
       "      <td>54046.861160</td>\n",
       "      <td>1</td>\n",
       "      <td>9.6</td>\n",
       "      <td>3.0</td>\n",
       "      <td>683.0</td>\n",
       "      <td>26.12</td>\n",
       "    </tr>\n",
       "  </tbody>\n",
       "</table>\n",
       "</div>"
      ],
      "text/plain": [
       "      loan_amnt    annual_inc  term  delinq_2yrs  mths_since_last_delinq  \\\n",
       "93     14113.38  27705.472367     1          0.0                   133.0   \n",
       "770    21475.70  49268.865780     1          0.0                   133.0   \n",
       "1036   24923.74  42239.011812     1          0.0                   133.0   \n",
       "1037   28306.00  80261.206452     1          0.0                   133.0   \n",
       "1209   29258.14  54046.861160     1          9.6                     3.0   \n",
       "\n",
       "       fico  int_rate  \n",
       "93    643.0     28.70  \n",
       "770   643.0     26.75  \n",
       "1036  648.0     26.37  \n",
       "1037  646.0     26.37  \n",
       "1209  683.0     26.12  "
      ]
     },
     "execution_count": 29,
     "metadata": {},
     "output_type": "execute_result"
    }
   ],
   "source": [
    "EXTERNAL_DATA_PATH = \"sdart_60m_clean.csv\"\n",
    "external_data = pd.read_csv(TEST_PATH + EXTERNAL_DATA_PATH,  index_col = 0)\n",
    "\n",
    "# # Stuff relevant if using samples from LendingClub, not external\n",
    "# external_data = external_data[num_vars_of_interest + cat_vars_of_interest]\n",
    "# external_data = external_data.reset_index(drop = True)\n",
    "# external_data.head()\n",
    "# external_data, num_vars_of_interest, cat_vars_of_interest = utils.clean_accepted_df(external_data, numeric_cols= num_vars_of_interest, categorical_cols= cat_vars_of_interest, one_hot_threshold=30)\n",
    "\n",
    "# shared_features = [\"loan_amnt\", \"annual_inc\", \"term\", \"fico_range_low\", \"fico_range_high\", \"delinq_2yrs\", \"mths_since_last_delinq\", \"int_rate\", \"sub_grade\"] #, \"issue_d\"]\n",
    "# external_data = external_data[shared_features]\n",
    "# external_data[\"fico\"] = (external_data[\"fico_range_high\"] + external_data[\"fico_range_low\"]) / 2.0\n",
    "# external_data.drop([\"fico_range_high\", \"fico_range_low\"], axis = 1, inplace = True)\n",
    "# external_data[\"int_rate\"] = external_data[\"int_rate\"]\n",
    "# external_data[\"sub_grade\"] = external_data[\"sub_grade\"]\n",
    "# external_data = external_data[[\"loan_amnt\", \"annual_inc\", \"term\", \"delinq_2yrs\", \"mths_since_last_delinq\", \"fico\", \"int_rate\",  \"sub_grade\"]]\n",
    "\n",
    "\n",
    "external_data.columns = [\"int_rate\", \"loan_amnt\", \"fico\", \"drop\", \"annual_inc\", \"drop\", \"delinq_2yrs\", \"mths_since_last_delinq\", \"drop\", \"issue_d\", \"drop\", \"drop\"]\n",
    "external_data.drop(\"drop\", axis = 1, inplace= True)\n",
    "external_data[\"term\"] = 1 if \"60\" in EXTERNAL_DATA_PATH else 0\n",
    "max_mths = nn_df_with_int_rate[\"mths_since_last_delinq\"].max()\n",
    "external_data[\"mths_since_last_delinq\"] = external_data[\"mths_since_last_delinq\"].apply(lambda x: max_mths if x == -1 else x)\n",
    "external_data = external_data[external_data[\"fico\"] > 640]\n",
    "external_data = external_data[external_data[\"int_rate\"] > 0]\n",
    "external_data = external_data[[\"loan_amnt\", \"annual_inc\", \"term\", \"delinq_2yrs\", \"mths_since_last_delinq\", \"fico\", \"int_rate\"]]\n",
    "# external_data[\"issue_d\"] = (pd.to_datetime(external_data[\"issue_d\"]) - datetime.datetime(2018,1,1)).dt.days.astype('float64')\n",
    "external_data.head()"
   ]
  },
  {
   "cell_type": "code",
   "execution_count": 30,
   "metadata": {},
   "outputs": [],
   "source": [
    "scaler = StandardScaler().fit(nn_df_with_int_rate.iloc[:, :-2])\n",
    "normalized_int = scaler.transform(nn_df_with_int_rate.iloc[:, :-2])\n",
    "int_rate_corrs = (nn_df_with_int_rate.corr()['int_rate']).values[:-2]\n",
    "\n",
    "num_neighbors = 5\n",
    "nn = NearestNeighbors(n_neighbors = num_neighbors, metric = \"mahalanobis\", metric_params= {'V': np.diag(1/int_rate_corrs)*np.cov(normalized_int.T)*np.diag(1/int_rate_corrs)})"
   ]
  },
  {
   "cell_type": "code",
   "execution_count": 31,
   "metadata": {},
   "outputs": [
    {
     "data": {
      "text/plain": [
       "NearestNeighbors(metric='mahalanobis',\n",
       "                 metric_params={'V': array([[  13.36572993,    0.        ,    0.        ,    0.        ,\n",
       "          -0.        ,    0.        ],\n",
       "       [   0.        ,  187.5724795 ,    0.        ,    0.        ,\n",
       "          -0.        ,    0.        ],\n",
       "       [   0.        ,    0.        ,    3.07467325,   -0.        ,\n",
       "          -0.        ,   -0.        ],\n",
       "       [   0.        ,    0.        ,   -0.        , 1247.20787274,\n",
       "          -0.        ,   -0.        ],\n",
       "       [  -0.        ,   -0.        ,   -0.        ,   -0.        ,\n",
       "         468.95760889,    0.        ],\n",
       "       [   0.        ,    0.        ,   -0.        ,   -0.        ,\n",
       "           0.        ,    5.98843606]])})"
      ]
     },
     "execution_count": 31,
     "metadata": {},
     "output_type": "execute_result"
    }
   ],
   "source": [
    "nn.fit(normalized_int)"
   ]
  },
  {
   "cell_type": "code",
   "execution_count": 32,
   "metadata": {},
   "outputs": [],
   "source": [
    "normalized_ext = scaler.transform(external_data.iloc[:,:-1])\n",
    "# normalized_ext = scaler.transform(external_data.iloc[:,:-2])\n",
    "ext_neighbors = nn.kneighbors(normalized_ext)"
   ]
  },
  {
   "cell_type": "code",
   "execution_count": 33,
   "metadata": {},
   "outputs": [],
   "source": [
    "ext_nearest_neighbor_sub_grades = nn_df_with_int_rate[\"sub_grade\"].iloc[ext_neighbors[1].flatten()]\n",
    "\n",
    "sub_grade_to_int_rate = {}\n",
    "sub_grades = nn_df_with_int_rate[\"sub_grade\"].unique()\n",
    "\n",
    "for sub_grade in sub_grades:\n",
    "    sub_grade_to_int_rate[sub_grade] = nn_df_with_int_rate[\"int_rate\"][nn_df_with_int_rate[\"sub_grade\"] == sub_grade].mean()\n",
    "\n",
    "ext_nearest_neighbor_int_rates = ext_nearest_neighbor_sub_grades.apply(lambda x: sub_grade_to_int_rate[x])\n",
    "ext_nearest_neighbor_int_rates_weights = softmax(ext_neighbors[0], axis = 1).flatten()"
   ]
  },
  {
   "cell_type": "code",
   "execution_count": 34,
   "metadata": {},
   "outputs": [],
   "source": [
    "ext_weighted_int_rates = ext_nearest_neighbor_int_rates * ext_nearest_neighbor_int_rates_weights\n",
    "ext_weighted_int_rates = ext_weighted_int_rates.values.reshape((-1, num_neighbors))\n",
    "ext_pred_int_rate = np.sum(ext_weighted_int_rates, axis = 1)"
   ]
  },
  {
   "cell_type": "code",
   "execution_count": 35,
   "metadata": {},
   "outputs": [
    {
     "data": {
      "text/plain": [
       "(0.0, 35.0)"
      ]
     },
     "execution_count": 35,
     "metadata": {},
     "output_type": "execute_result"
    },
    {
     "data": {
      "image/png": "[encoded data removed]",
      "text/plain": [
       "<Figure size 1080x576 with 1 Axes>"
      ]
     },
     "metadata": {},
     "output_type": "display_data"
    }
   ],
   "source": [
    "from matplotlib.transforms import Bbox\n",
    "\n",
    "\n",
    "plt.figure(figsize=(15,8))\n",
    "sns.kdeplot(ext_pred_int_rate, cut = 35, clip = (-2, 35), fill = True, label = \"Predicted Rate\")\n",
    "sns.kdeplot(external_data[\"int_rate\"], cut = 35, clip = (-2, 35), fill = True, label = \"True Rate\")\n",
    "plt.tick_params(labelsize=16)\n",
    "plt.xlabel(\"Interest Rate (%)\", fontsize = 16, labelpad= 10)\n",
    "plt.legend(fontsize= 16)\n",
    "plt.ylabel(\"Density\", fontsize = 16)\n",
    "plt.xlim(0, 35)\n",
    "#plt.savefig(FIG_PATH + \"sdart_36m_pdf_comps.pdf\", bbox_inches = \"tight\")\n"
   ]
  },
  {
   "cell_type": "code",
   "execution_count": 36,
   "metadata": {},
   "outputs": [
    {
     "data": {
      "text/plain": [
       "11.273363984948569"
      ]
     },
     "execution_count": 36,
     "metadata": {},
     "output_type": "execute_result"
    }
   ],
   "source": [
    "np.median(ext_pred_int_rate) - external_data[\"int_rate\"].median()"
   ]
  },
  {
   "cell_type": "code",
   "execution_count": 37,
   "metadata": {},
   "outputs": [
    {
     "data": {
      "text/plain": [
       "0.5542155765254482"
      ]
     },
     "execution_count": 37,
     "metadata": {},
     "output_type": "execute_result"
    }
   ],
   "source": [
    "from sklearn.neighbors import KernelDensity\n",
    "\n",
    "x_range = np.linspace(0, 35, 1000)\n",
    "# instantiate and fit the KDE model\n",
    "kde_pred = KernelDensity(bandwidth=0.8, kernel='gaussian')\n",
    "kde_pred.fit(ext_pred_int_rate.reshape((ext_pred_int_rate.shape[0], 1)))\n",
    "pred_logprob = kde_pred.score_samples(x_range.reshape((x_range.shape[0], 1)))\n",
    "kde_act = KernelDensity(bandwidth=0.8, kernel='gaussian')\n",
    "kde_act.fit(external_data[\"int_rate\"].values.reshape((external_data[\"int_rate\"].shape[0], 1)))\n",
    "act_logprob = kde_act.score_samples(x_range.reshape((x_range.shape[0], 1)))\n",
    "from scipy.integrate import trapz\n",
    "\n",
    "BC = trapz(x = x_range, y=np.sqrt(np.exp(pred_logprob)*np.exp(act_logprob)))\n",
    "BC"
   ]
  },
  {
   "cell_type": "code",
   "execution_count": 38,
   "metadata": {},
   "outputs": [],
   "source": [
    "from scipy.stats import wilcoxon\n",
    "w, p = wilcoxon(ext_pred_int_rate - 0.72*ext_pred_int_rate.std(), external_data[\"int_rate\"], alternative = \"greater\")"
   ]
  },
  {
   "cell_type": "code",
   "execution_count": 39,
   "metadata": {},
   "outputs": [
    {
     "data": {
      "text/plain": [
       "(33541057.0, 0.0)"
      ]
     },
     "execution_count": 39,
     "metadata": {},
     "output_type": "execute_result"
    }
   ],
   "source": [
    "w, p"
   ]
  },
  {
   "cell_type": "markdown",
   "metadata": {},
   "source": [
    "### Testing Area"
   ]
  },
  {
   "cell_type": "code",
   "execution_count": 40,
   "metadata": {},
   "outputs": [],
   "source": [
    "# Only relevant if external_data uses samples from Lending Club\n",
    "# plt.scatter(ext_pred_int_rate,  external_data[\"int_rate\"])\n"
   ]
  },
  {
   "cell_type": "code",
   "execution_count": 41,
   "metadata": {},
   "outputs": [],
   "source": [
    "# Only relevant if external_data uses samples from Lending Club\n",
    "# external_plotting_df = pd.DataFrame({'Interest Rate (%)': ext_pred_int_rate,\n",
    "#                    'Residual': ext_pred_int_rate - external_data[\"int_rate\"] })\n",
    "# ax = external_plotting_df.plot.hexbin(x='Interest Rate (%)', y='Residual', gridsize=15, figsize = (15, 10),sharex=False, cmap = \"Blues\")\n",
    "# ax.set_xlabel(\"Interest Rate (%)\", fontsize = 16, labelpad= 10)\n",
    "# ax.set_ylabel(\"Residual\", fontsize = 16)"
   ]
  },
  {
   "cell_type": "code",
   "execution_count": 42,
   "metadata": {},
   "outputs": [
    {
     "data": {
      "text/plain": [
       "Ttest_indResult(statistic=147.81072007231194, pvalue=0.0)"
      ]
     },
     "execution_count": 42,
     "metadata": {},
     "output_type": "execute_result"
    }
   ],
   "source": [
    "from scipy import stats\n",
    "stats.ttest_ind(ext_pred_int_rate, external_data[\"int_rate\"], alternative= \"greater\")"
   ]
  },
  {
   "cell_type": "code",
   "execution_count": 43,
   "metadata": {},
   "outputs": [],
   "source": [
    "# Only relevant if external data uses samples from LendingClub\n",
    "# pred_int_rate = pd.Series(ext_pred_int_rate)\n",
    "# xrange = np.linspace(-2, 35, 2000)\n",
    "# for i in range(35):\n",
    "#     ax = sns.kdeplot(pred_int_rate[external_data[\"sub_grade\"] == i], cut = 35, clip = (-2, 35), fill = True)\n",
    "#     print(pred_int_rate[external_data[\"sub_grade\"] == i].std())\n",
    "#     plt.xlim([-2, 35])\n",
    "#     # nn_df_reset_ind[\"int_rate\"][nn_df_reset_ind[\"sub_grade\"] == i].plot(kind = \"kde\")\n",
    "#     plt.axvline(x=sub_grade_to_int_rate[i], color='k', linestyle='--')\n",
    "#     plt.axvline(x=pred_int_rate[external_data[\"sub_grade\"]  == i].median(), color = 'r', linestyle='--')\n",
    "#     plt.show()"
   ]
  }
 ],
 "metadata": {
  "kernelspec": {
   "display_name": "Python 3.9.4 ('torch_py39')",
   "language": "python",
   "name": "python3"
  },
  "language_info": {
   "codemirror_mode": {
    "name": "ipython",
    "version": 3
   },
   "file_extension": ".py",
   "mimetype": "text/x-python",
   "name": "python",
   "nbconvert_exporter": "python",
   "pygments_lexer": "ipython3",
   "version": "3.9.4"
  },
  "orig_nbformat": 4,
  "vscode": {
   "interpreter": {
    "hash": "e1130fced50ebbd9c22ddab28fa19c6a12da74a9cdda1dff4d98afdf6b513e87"
   }
  }
 },
 "nbformat": 4,
 "nbformat_minor": 2
}
