{
 "cells": [
  {
   "cell_type": "code",
   "execution_count": null,
   "metadata": {},
   "outputs": [],
   "source": [
    "import os\n",
    "import sys\n",
    "sys.path.insert(0, \"../\")\n",
    "import pandas as pd\n",
    "import numpy as np\n",
    "import data_processing.utils as utils\n",
    "import matplotlib.pyplot as plt\n",
    "import seaborn as sns\n",
    "sns.set_style('darkgrid')"
   ]
  },
  {
   "cell_type": "markdown",
   "metadata": {},
   "source": [
    "### Methodology"
   ]
  },
  {
   "cell_type": "code",
   "execution_count": null,
   "metadata": {},
   "outputs": [],
   "source": [
    "TEST_PATH = os.path.join(os.path.dirname(os.getcwd()), 'data_processing/test_files/')\n",
    "SAMPLE_BY_LOAN_FN = \"sample_by_loan_amt.csv\"\n",
    "pd.set_option('display.max_columns', None)\n",
    "pd.set_option('display.max_rows', 160)"
   ]
  },
  {
   "cell_type": "code",
   "execution_count": null,
   "metadata": {},
   "outputs": [],
   "source": [
    "cat_vars_of_interest = [\"term\", \"grade\", \"sub_grade\", \"emp_title\", \"emp_length\", \"home_ownership\", \"verification_status\", \"purpose\", \"addr_state\", \n",
    "    \"initial_list_status\", \"application_type\", \"hardship_flag\", \"loan_status\"\n",
    "]\n",
    "num_vars_of_interest = list(set([\n",
    "    \"loan_amnt\", \"funded_amnt\", \"funded_amnt_inv\", \"int_rate\", \"installment\", \"issue_d\", \"annual_inc\", \"dti\", \"fico_range_low\", \"fico_range_high\", \n",
    "    \"revol_bal\", \"revol_util\", \"open_acc\", \"delinq_2yrs\", \"inq_last_6mths\", \"total_acc\", \"mths_since_last_delinq\", \"mths_since_last_record\", \"mths_since_rcnt_il\",\n",
    "    \"last_credit_pull_d\", \"open_il_12m\", \"open_il_24m\", \"total_bal_il\", \"il_util\", \"open_rv_12m\", \"open_rv_24m\", \"max_bal_bc\", \"all_util\",\n",
    "    \"total_rev_hi_lim\", \"inq_fi\", \"total_cu_tl\", \"inq_last_12m\", \"acc_open_past_24mths\", \"avg_cur_bal\", \"bc_open_to_buy\", \"bc_util\", \"num_accts_ever_120_pd\",\n",
    "    \"num_actv_bc_tl\", \"num_actv_rev_tl\", \"num_bc_sats\", \"num_bc_tl\", \"num_sats\", \"num_il_tl\", \"num_op_rev_tl\", \"num_rev_accts\", \"num_rev_tl_bal_gt_0\", \"tot_hi_cred_lim\", \n",
    "    \"pct_tl_nvr_dlq\", \"percent_bc_gt_75\", \"total_bal_ex_mort\", \"total_bc_limit\",\"total_il_high_credit_limit\", \"mths_since_last_major_derog\", \"mths_since_recent_bc\",\n",
    "    \"mths_since_recent_bc_dlq\", \"mths_since_recent_inq\", \"mths_since_recent_revol_delinq\"\n",
    "]))"
   ]
  },
  {
   "cell_type": "code",
   "execution_count": null,
   "metadata": {},
   "outputs": [],
   "source": [
    "clean_df = utils.cluster_create([\"loan_amnt\", \"fico_range_high\"], TEST_PATH + \"sample_by_loan_amt.csv\", TEST_PATH + \"testClustering.csv\")"
   ]
  },
  {
   "cell_type": "code",
   "execution_count": null,
   "metadata": {},
   "outputs": [],
   "source": [
    "from sklearn.preprocessing import StandardScaler\n",
    "from sklearn.decomposition import PCA\n",
    "from sklearn.cluster import DBSCAN, KMeans, AgglomerativeClustering\n",
    "\n",
    "X = clean_df[[\"loan_amnt\",\"annual_inc\", \"fico_range_high\", \"delinq_2yrs\", \"term\"]]\n",
    "scaler = StandardScaler()\n",
    "scaled_dimensions = scaler.fit_transform(X)\n",
    "pca = PCA(n_components=2)\n",
    "X_new = pca.fit_transform(scaled_dimensions)"
   ]
  },
  {
   "cell_type": "code",
   "execution_count": null,
   "metadata": {},
   "outputs": [],
   "source": [
    "clustering = KMeans(n_clusters=20).fit(X_new)\n",
    "clean_df[\"cluster\"] = clustering.labels_\n",
    "plt.scatter(X_new[:, 0], X_new[:, 1], c=clustering.labels_.astype(float))"
   ]
  },
  {
   "cell_type": "code",
   "execution_count": null,
   "metadata": {},
   "outputs": [],
   "source": [
    "for i in range(30):\n",
    "    clean_df[\"cluster\"][clean_df[\"sub_grade\"] == i].plot(kind = \"hist\")\n",
    "    plt.show()"
   ]
  },
  {
   "cell_type": "code",
   "execution_count": null,
   "metadata": {},
   "outputs": [],
   "source": [
    "clean_df[\"sub_grade\"].plot(kind = \"hist\")"
   ]
  }
 ],
 "metadata": {
  "kernelspec": {
   "display_name": "Python 3.9.4 ('torch_py39')",
   "language": "python",
   "name": "python3"
  },
  "language_info": {
   "codemirror_mode": {
    "name": "ipython",
    "version": 3
   },
   "file_extension": ".py",
   "mimetype": "text/x-python",
   "name": "python",
   "nbconvert_exporter": "python",
   "pygments_lexer": "ipython3",
   "version": "3.9.4"
  },
  "orig_nbformat": 4,
  "vscode": {
   "interpreter": {
    "hash": "e1130fced50ebbd9c22ddab28fa19c6a12da74a9cdda1dff4d98afdf6b513e87"
   }
  }
 },
 "nbformat": 4,
 "nbformat_minor": 2
}
